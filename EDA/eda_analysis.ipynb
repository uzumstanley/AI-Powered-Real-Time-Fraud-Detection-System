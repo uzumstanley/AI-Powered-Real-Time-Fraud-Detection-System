{
  "nbformat": 4,
  "nbformat_minor": 0,
  "metadata": {
    "colab": {
      "provenance": []
    },
    "kernelspec": {
      "name": "python3",
      "display_name": "Python 3"
    },
    "language_info": {
      "name": "python"
    }
  },
  "cells": [
    {
      "cell_type": "code",
      "source": [
        "import pandas as pd\n",
        "import matplotlib.pyplot as plt\n",
        "import seaborn as sns\n",
        "import os\n",
        "from scipy.stats import chi2_contingency"
      ],
      "metadata": {
        "id": "0oTi1wixMmzg"
      },
      "execution_count": 25,
      "outputs": []
    },
    {
      "cell_type": "code",
      "source": [
        "# Load featured dataset\n",
        "data_path = '/content/drive/MyDrive/Fraud Detection/bank_transactions_featured.csv'\n",
        "df = pd.read_csv(data_path)"
      ],
      "metadata": {
        "id": "3-1B5F1QpzSG"
      },
      "execution_count": 26,
      "outputs": []
    },
    {
      "cell_type": "code",
      "source": [
        "# Create directory for EDA outputs\n",
        "os.makedirs('/content/drive/MyDrive/Fraud Detection', exist_ok=True)"
      ],
      "metadata": {
        "id": "BURnaDs_pzNK"
      },
      "execution_count": 27,
      "outputs": []
    },
    {
      "cell_type": "markdown",
      "source": [
        "# Dataset Overview"
      ],
      "metadata": {
        "id": "s15D_PROrlLK"
      }
    },
    {
      "cell_type": "code",
      "source": [
        "print(\"✅ Dataset Shape:\", df.shape)\n",
        "print(\"\\n✅ Columns Overview:\")\n",
        "print(df.columns.tolist())\n",
        "\n",
        "print(\"\\n✅ Data Types and Nulls:\")\n",
        "print(df.info())\n",
        "print(\"\\n✅ Missing Values per Column:\")\n",
        "print(df.isnull().sum())\n",
        "\n",
        "print(\"\\n✅ Large Transaction Distribution (%):\")\n",
        "print(df['is_large_transaction'].value_counts(normalize=True) * 100)\n",
        "\n",
        "print(\"\\n✅ Unusual Location Distribution (%):\")\n",
        "print(df['is_unusual_location'].value_counts(normalize=True) * 100)"
      ],
      "metadata": {
        "colab": {
          "base_uri": "https://localhost:8080/"
        },
        "id": "0UJmFgdFpzHn",
        "outputId": "67ec4799-c252-4880-c31a-6c3229807972"
      },
      "execution_count": 29,
      "outputs": [
        {
          "output_type": "stream",
          "name": "stdout",
          "text": [
            "✅ Dataset Shape: (2372, 26)\n",
            "\n",
            "✅ Columns Overview:\n",
            "['TransactionID', 'AccountID', 'TransactionAmount', 'TransactionDate', 'TransactionType', 'Location', 'DeviceID', 'IP Address', 'MerchantID', 'Channel', 'CustomerAge', 'CustomerOccupation', 'TransactionDuration', 'LoginAttempts', 'AccountBalance', 'PreviousTransactionDate', 'is_large_transaction', 'log_transaction_amount', 'transaction_hour', 'transaction_day_of_week', 'odd_hour_transaction', 'user_transaction_count', 'user_avg_transaction_amount', 'deviation_from_user_avg', 'user_primary_location', 'is_unusual_location']\n",
            "\n",
            "✅ Data Types and Nulls:\n",
            "<class 'pandas.core.frame.DataFrame'>\n",
            "RangeIndex: 2372 entries, 0 to 2371\n",
            "Data columns (total 26 columns):\n",
            " #   Column                       Non-Null Count  Dtype  \n",
            "---  ------                       --------------  -----  \n",
            " 0   TransactionID                2372 non-null   object \n",
            " 1   AccountID                    2372 non-null   object \n",
            " 2   TransactionAmount            2372 non-null   float64\n",
            " 3   TransactionDate              2372 non-null   object \n",
            " 4   TransactionType              2372 non-null   object \n",
            " 5   Location                     2372 non-null   object \n",
            " 6   DeviceID                     2372 non-null   object \n",
            " 7   IP Address                   2372 non-null   object \n",
            " 8   MerchantID                   2372 non-null   object \n",
            " 9   Channel                      2372 non-null   object \n",
            " 10  CustomerAge                  2372 non-null   int64  \n",
            " 11  CustomerOccupation           2372 non-null   object \n",
            " 12  TransactionDuration          2372 non-null   int64  \n",
            " 13  LoginAttempts                2372 non-null   int64  \n",
            " 14  AccountBalance               2372 non-null   float64\n",
            " 15  PreviousTransactionDate      2372 non-null   object \n",
            " 16  is_large_transaction         2372 non-null   int64  \n",
            " 17  log_transaction_amount       2372 non-null   float64\n",
            " 18  transaction_hour             2372 non-null   int64  \n",
            " 19  transaction_day_of_week      2372 non-null   int64  \n",
            " 20  odd_hour_transaction         2372 non-null   int64  \n",
            " 21  user_transaction_count       2372 non-null   int64  \n",
            " 22  user_avg_transaction_amount  2372 non-null   float64\n",
            " 23  deviation_from_user_avg      2372 non-null   float64\n",
            " 24  user_primary_location        2372 non-null   object \n",
            " 25  is_unusual_location          2372 non-null   int64  \n",
            "dtypes: float64(5), int64(9), object(12)\n",
            "memory usage: 481.9+ KB\n",
            "None\n",
            "\n",
            "✅ Missing Values per Column:\n",
            "TransactionID                  0\n",
            "AccountID                      0\n",
            "TransactionAmount              0\n",
            "TransactionDate                0\n",
            "TransactionType                0\n",
            "Location                       0\n",
            "DeviceID                       0\n",
            "IP Address                     0\n",
            "MerchantID                     0\n",
            "Channel                        0\n",
            "CustomerAge                    0\n",
            "CustomerOccupation             0\n",
            "TransactionDuration            0\n",
            "LoginAttempts                  0\n",
            "AccountBalance                 0\n",
            "PreviousTransactionDate        0\n",
            "is_large_transaction           0\n",
            "log_transaction_amount         0\n",
            "transaction_hour               0\n",
            "transaction_day_of_week        0\n",
            "odd_hour_transaction           0\n",
            "user_transaction_count         0\n",
            "user_avg_transaction_amount    0\n",
            "deviation_from_user_avg        0\n",
            "user_primary_location          0\n",
            "is_unusual_location            0\n",
            "dtype: int64\n",
            "\n",
            "✅ Large Transaction Distribution (%):\n",
            "is_large_transaction\n",
            "0    94.983137\n",
            "1     5.016863\n",
            "Name: proportion, dtype: float64\n",
            "\n",
            "✅ Unusual Location Distribution (%):\n",
            "is_unusual_location\n",
            "1    74.409781\n",
            "0    25.590219\n",
            "Name: proportion, dtype: float64\n"
          ]
        }
      ]
    },
    {
      "cell_type": "markdown",
      "source": [
        "# Feature Distributions"
      ],
      "metadata": {
        "id": "DWa5jS3FuxnH"
      }
    },
    {
      "cell_type": "code",
      "source": [
        "# is_large_transaction distribution\n",
        "plt.figure(figsize=(6,4))\n",
        "sns.countplot(x='is_large_transaction', data=df)\n",
        "plt.title('Large Transaction Distribution')\n",
        "plt.savefig('/content/drive/MyDrive/Fraud Detection/large_transaction_distribution.png')\n",
        "plt.close()"
      ],
      "metadata": {
        "id": "7TOkO8vfpzDM"
      },
      "execution_count": 30,
      "outputs": []
    },
    {
      "cell_type": "code",
      "source": [
        "# is_unusual_location distribution\n",
        "plt.figure(figsize=(6,4))\n",
        "sns.countplot(x='is_unusual_location', data=df)\n",
        "plt.title('Unusual Location Distribution')\n",
        "plt.savefig('/content/drive/MyDrive/Fraud Detection/unusual_location_distribution.png')\n",
        "plt.close()"
      ],
      "metadata": {
        "id": "_ChY0r_Zpy80"
      },
      "execution_count": 31,
      "outputs": []
    },
    {
      "cell_type": "markdown",
      "source": [
        "# Transaction Amount Analysis"
      ],
      "metadata": {
        "id": "vXeAL2IGwYiC"
      }
    },
    {
      "cell_type": "code",
      "source": [
        "plt.figure(figsize=(8,4))\n",
        "sns.histplot(df['TransactionAmount'], bins=50, kde=True)\n",
        "plt.title('Transaction Amount Distribution')\n",
        "plt.xlim(0, df['TransactionAmount'].quantile(0.99))  # trim extreme outliers\n",
        "plt.savefig('/content/drive/MyDrive/Fraud Detection/amount_distribution.png')\n",
        "plt.close()"
      ],
      "metadata": {
        "id": "XdMiyhMGpy3n"
      },
      "execution_count": 33,
      "outputs": []
    },
    {
      "cell_type": "markdown",
      "source": [
        "# Time Features Analysis"
      ],
      "metadata": {
        "id": "QXYJUXzAxv4M"
      }
    },
    {
      "cell_type": "code",
      "source": [
        "# Hourly patterns\n",
        "if 'transaction_hour' in df.columns:\n",
        "    plt.figure(figsize=(10,4))\n",
        "    sns.countplot(x='transaction_hour', data=df)\n",
        "    plt.title('Transactions by Hour of Day')\n",
        "    plt.savefig('/content/drive/MyDrive/Fraud Detection/transactions_by_hour.png')\n",
        "    plt.close()"
      ],
      "metadata": {
        "id": "Evqw5lfQpyyc"
      },
      "execution_count": 34,
      "outputs": []
    },
    {
      "cell_type": "code",
      "source": [
        "# Day of week patterns\n",
        "if 'transaction_day_of_week' in df.columns:\n",
        "    plt.figure(figsize=(10,4))\n",
        "    sns.countplot(x='transaction_day_of_week', data=df)\n",
        "    plt.title('Transactions by Day of Week')\n",
        "    plt.savefig('/content/drive/MyDrive/Fraud Detection/transactions_by_day_of_week.png')\n",
        "    plt.close()"
      ],
      "metadata": {
        "id": "a98Vx8KQpys3"
      },
      "execution_count": 35,
      "outputs": []
    },
    {
      "cell_type": "markdown",
      "source": [
        "# Cross-Feature Analysis"
      ],
      "metadata": {
        "id": "qO2Y7pSTzGfw"
      }
    },
    {
      "cell_type": "code",
      "source": [
        "# Large vs Unusual\n",
        "plt.figure(figsize=(6,4))\n",
        "sns.countplot(x='is_large_transaction', hue='is_unusual_location', data=df)\n",
        "plt.title('Large Transaction vs Unusual Location')\n",
        "plt.savefig('/content/drive/MyDrive/Fraud Detection/large_vs_unusual.png')\n",
        "plt.close()\n",
        "\n",
        "print(\"\\n✅ Corrected EDA Completed. Plots saved under /content/drive/MyDrive/Fraud Detection/ ✅\")"
      ],
      "metadata": {
        "colab": {
          "base_uri": "https://localhost:8080/"
        },
        "id": "NZLI8eKEpym2",
        "outputId": "0601da7f-c0b7-4a91-ae90-e0a77ac78d02"
      },
      "execution_count": 36,
      "outputs": [
        {
          "output_type": "stream",
          "name": "stdout",
          "text": [
            "\n",
            "✅ Corrected EDA Completed. Plots saved under /content/drive/MyDrive/Fraud Detection/ ✅\n"
          ]
        }
      ]
    },
    {
      "cell_type": "code",
      "source": [],
      "metadata": {
        "id": "sRHuox4Lpyii"
      },
      "execution_count": null,
      "outputs": []
    }
  ]
}