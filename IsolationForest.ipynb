{
  "nbformat": 4,
  "nbformat_minor": 0,
  "metadata": {
    "colab": {
      "provenance": []
    },
    "kernelspec": {
      "name": "python3",
      "display_name": "Python 3"
    },
    "language_info": {
      "name": "python"
    }
  },
  "cells": [
    {
      "cell_type": "markdown",
      "source": [
        "**Isolation Forest (unsupervised anomaly detection) because the dataset did not have a label Is_Fraud colum**"
      ],
      "metadata": {
        "id": "N8vTAqxQ8HJm"
      }
    },
    {
      "cell_type": "code",
      "execution_count": 11,
      "metadata": {
        "id": "fXb69GM0sTxJ"
      },
      "outputs": [],
      "source": [
        "import pandas as pd\n",
        "import numpy as np\n",
        "from sklearn.preprocessing import StandardScaler, OneHotEncoder\n",
        "from sklearn.ensemble import IsolationForest\n",
        "import joblib\n",
        "\n",
        "# Load your data\n",
        "df = pd.read_csv('/content/drive/MyDrive/FraudDetection/bank_transactions_featured.csv')\n"
      ]
    },
    {
      "cell_type": "code",
      "source": [
        "# Define features\n",
        "numeric_cols = [\n",
        "    \"TransactionAmount\", \"CustomerAge\", \"TransactionDuration\", \"LoginAttempts\", \"AccountBalance\",\n",
        "    \"user_transaction_count\", \"user_avg_transaction_amount\", \"deviation_from_user_avg\",\n",
        "    \"transaction_hour\", \"transaction_day_of_week\"\n",
        "]\n",
        "categorical_cols = [\n",
        "    \"TransactionType\", \"Location\", \"Channel\", \"CustomerOccupation\", \"user_primary_location\", \"is_unusual_location\"\n",
        "]\n",
        "\n"
      ],
      "metadata": {
        "id": "CJDCsZnB3eVt"
      },
      "execution_count": 12,
      "outputs": []
    },
    {
      "cell_type": "code",
      "source": [
        "# Scale numeric features\n",
        "scaler = StandardScaler()\n",
        "X_numeric = scaler.fit_transform(df[numeric_cols])\n"
      ],
      "metadata": {
        "id": "rKyLUCjD3eRP"
      },
      "execution_count": 13,
      "outputs": []
    },
    {
      "cell_type": "code",
      "source": [
        "# One-hot encode categorical features\n",
        "encoder = OneHotEncoder(sparse_output=False, handle_unknown='ignore')\n",
        "X_categorical = encoder.fit_transform(df[categorical_cols])\n"
      ],
      "metadata": {
        "id": "KEhShun53eM5"
      },
      "execution_count": 15,
      "outputs": []
    },
    {
      "cell_type": "code",
      "source": [
        "# Combine features\n",
        "X = np.hstack((X_numeric, X_categorical)).astype(np.float32)"
      ],
      "metadata": {
        "id": "K1-afPY13eH3"
      },
      "execution_count": 16,
      "outputs": []
    },
    {
      "cell_type": "code",
      "source": [
        "# Train Isolation Forest\n",
        "iso = IsolationForest(n_estimators=100, max_samples='auto', contamination=0.01, random_state=42)\n",
        "iso.fit(X)\n",
        "scores = -iso.decision_function(X)"
      ],
      "metadata": {
        "id": "-0Ox-hz53eDr"
      },
      "execution_count": 17,
      "outputs": []
    },
    {
      "cell_type": "code",
      "source": [
        "# Save the encoder and model\n",
        "joblib.dump(encoder, '/content/drive/MyDrive/FraudDetection/onehot_encoder.pkl')\n",
        "joblib.dump(iso, '/content/drive/MyDrive/FraudDetection/iso_forest_model.pkl')"
      ],
      "metadata": {
        "colab": {
          "base_uri": "https://localhost:8080/"
        },
        "id": "6I2fOpHo3d-p",
        "outputId": "66f55837-3ada-4644-ce37-8d14aa07ccaf"
      },
      "execution_count": 18,
      "outputs": [
        {
          "output_type": "execute_result",
          "data": {
            "text/plain": [
              "['/content/drive/MyDrive/FraudDetection/iso_forest_model.pkl']"
            ]
          },
          "metadata": {},
          "execution_count": 18
        }
      ]
    },
    {
      "cell_type": "code",
      "source": [],
      "metadata": {
        "id": "CCImn9OX39jg"
      },
      "execution_count": null,
      "outputs": []
    },
    {
      "cell_type": "code",
      "source": [],
      "metadata": {
        "id": "9MSDILNE39fq"
      },
      "execution_count": null,
      "outputs": []
    },
    {
      "cell_type": "code",
      "source": [],
      "metadata": {
        "id": "3ULtk8NU39cS"
      },
      "execution_count": null,
      "outputs": []
    }
  ]
}