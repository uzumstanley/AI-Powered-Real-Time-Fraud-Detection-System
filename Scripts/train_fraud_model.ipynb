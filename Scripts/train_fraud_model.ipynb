{
  "nbformat": 4,
  "nbformat_minor": 0,
  "metadata": {
    "colab": {
      "provenance": []
    },
    "kernelspec": {
      "name": "python3",
      "display_name": "Python 3"
    },
    "language_info": {
      "name": "python"
    }
  },
  "cells": [
    {
      "cell_type": "code",
      "source": [
        "import pandas as pd\n",
        "import numpy as np\n",
        "from sklearn.ensemble import IsolationForest\n",
        "from sklearn.preprocessing import StandardScaler, OneHotEncoder\n",
        "from sklearn.model_selection import train_test_split\n",
        "from sklearn.linear_model import LogisticRegression\n",
        "from sklearn.metrics import classification_report, roc_auc_score, roc_curve\n",
        "from xgboost import XGBClassifier\n",
        "import matplotlib.pyplot as plt\n",
        "import joblib\n",
        "import os"
      ],
      "metadata": {
        "id": "0oTi1wixMmzg"
      },
      "execution_count": 1,
      "outputs": []
    },
    {
      "cell_type": "code",
      "source": [
        "# Paths\n",
        "\n",
        "DATA_PATH = '/content/drive/MyDrive/Fraud Detection/bank_transactions_featured.csv'\n",
        "OUTPUT_DIR = '/content/drive/MyDrive/Fraud Detection/model_training'\n",
        "os.makedirs(OUTPUT_DIR, exist_ok=True)"
      ],
      "metadata": {
        "id": "e2iWrY0IV9oj"
      },
      "execution_count": 2,
      "outputs": []
    },
    {
      "cell_type": "code",
      "source": [
        "# Load Dataset\n",
        "\n",
        "df = pd.read_csv(DATA_PATH, parse_dates=['TransactionDate', 'PreviousTransactionDate'])\n"
      ],
      "metadata": {
        "id": "ah8fHxw4V9jb"
      },
      "execution_count": 3,
      "outputs": []
    },
    {
      "cell_type": "code",
      "source": [
        "# Feature Selection: drop identifiers and timestamps\n",
        "\n",
        "drop_cols = [\n",
        "    'TransactionID', 'AccountID', 'TransactionDate', 'PreviousTransactionDate',\n",
        "    'DeviceID', 'IP Address', 'MerchantID'\n",
        "]\n",
        "X = df.drop(columns=drop_cols)\n"
      ],
      "metadata": {
        "id": "q7IO-ZjkV9ep"
      },
      "execution_count": 4,
      "outputs": []
    },
    {
      "cell_type": "markdown",
      "source": [
        "# Unsupervised Labeling with Isolation Forest"
      ],
      "metadata": {
        "id": "2ij4AkJDXyS7"
      }
    },
    {
      "cell_type": "code",
      "source": [
        "#   - Scale numerical features\n",
        "numeric_cols = X.select_dtypes(include=[np.number]).columns.tolist()\n",
        "scaler = StandardScaler()\n",
        "X_numeric = pd.DataFrame(scaler.fit_transform(X[numeric_cols]), columns=numeric_cols)\n",
        "\n",
        "#   - Keep binary flags and time features as-is\n",
        "#   - One-hot encode categorical features\n",
        "other_cols = [c for c in X.columns if c not in numeric_cols]\n",
        "X_other = X[other_cols].reset_index(drop=True)\n",
        "categorical_cols = X_other.select_dtypes(include=['object']).columns.tolist()  # Identify categorical columns\n",
        "encoder = OneHotEncoder(sparse_output=False, handle_unknown='ignore')  # Create OneHotEncoder instance\n",
        "encoded_data = encoder.fit_transform(X_other[categorical_cols])  # Fit and transform categorical features\n",
        "encoded_df = pd.DataFrame(encoded_data, columns=encoder.get_feature_names_out(categorical_cols))  # Create DataFrame from encoded data\n",
        "X_other = X_other.drop(columns=categorical_cols)  # Drop original categorical columns\n",
        "X_other = pd.concat([X_other, encoded_df], axis=1)  # Concatenate encoded features\n",
        "\n",
        "#   - Combine\n",
        "X_if = pd.concat([X_numeric, X_other], axis=1)\n",
        "\n",
        "#   - Train Isolation Forest\n",
        "iso = IsolationForest(n_estimators=100, max_samples='auto', contamination=0.01, random_state=42)\n",
        "iso.fit(X_if)\n",
        "scores = -iso.decision_function(X_if)"
      ],
      "metadata": {
        "id": "0m3OFs6aV9UF"
      },
      "execution_count": 7,
      "outputs": []
    },
    {
      "cell_type": "code",
      "source": [
        "#   - Pseudo-label: top 5% anomalies\n",
        "threshold = np.percentile(scores, 95)\n",
        "df['is_fraud'] = (scores >= threshold).astype(int)\n",
        "joblib.dump(iso, os.path.join(OUTPUT_DIR, 'isolation_forest.pkl'))"
      ],
      "metadata": {
        "colab": {
          "base_uri": "https://localhost:8080/"
        },
        "id": "DAsh-ZOMV9Pc",
        "outputId": "4751e4c1-c40f-46be-aac6-43b8059a6c98"
      },
      "execution_count": 8,
      "outputs": [
        {
          "output_type": "execute_result",
          "data": {
            "text/plain": [
              "['/content/drive/MyDrive/Fraud Detection/model_training/isolation_forest.pkl']"
            ]
          },
          "metadata": {},
          "execution_count": 8
        }
      ]
    },
    {
      "cell_type": "code",
      "source": [
        "# Prepare for Supervised Training\n",
        "y = df['is_fraud']\n",
        "X = X.drop(columns=[])  # already cleaned of IDs"
      ],
      "metadata": {
        "id": "UCofNEs3V9Ku"
      },
      "execution_count": 9,
      "outputs": []
    },
    {
      "cell_type": "code",
      "source": [
        "# One-Hot Encode Categorical Features\n",
        "cat_cols = ['TransactionType', 'Location', 'Channel', 'CustomerOccupation', 'user_primary_location']\n",
        "# Remove the 'sparse' argument, or upgrade scikit-learn to version 1.2 or later\n",
        "ohe = OneHotEncoder(handle_unknown='ignore', sparse_output=False)  # sparse is deprecated, use sparse_output\n",
        "X_cat = pd.DataFrame(ohe.fit_transform(X[cat_cols]), index=X.index)\n",
        "joblib.dump(ohe, os.path.join(OUTPUT_DIR, 'onehot_encoder.pkl'))"
      ],
      "metadata": {
        "colab": {
          "base_uri": "https://localhost:8080/"
        },
        "id": "c0MEjJBdV9Fy",
        "outputId": "1de16b94-a16a-4efa-8041-6fcb261c38e8"
      },
      "execution_count": 11,
      "outputs": [
        {
          "output_type": "execute_result",
          "data": {
            "text/plain": [
              "['/content/drive/MyDrive/Fraud Detection/model_training/onehot_encoder.pkl']"
            ]
          },
          "metadata": {},
          "execution_count": 11
        }
      ]
    },
    {
      "cell_type": "code",
      "source": [
        "# Combine encoded and numeric\n",
        "X_final = pd.concat([X_numeric, X_other, X_cat], axis=1)"
      ],
      "metadata": {
        "id": "3qz1r46sV9AV"
      },
      "execution_count": 13,
      "outputs": []
    },
    {
      "cell_type": "code",
      "source": [
        "# Train/Test Split\n",
        "X_train, X_test, y_train, y_test = train_test_split(\n",
        "    X_final, y, test_size=0.3, stratify=y, random_state=42\n",
        ")"
      ],
      "metadata": {
        "id": "yElhNIpJXeXt"
      },
      "execution_count": 14,
      "outputs": []
    },
    {
      "cell_type": "code",
      "source": [
        "# Train XGBoost Classifier with imbalance handling\n",
        "neg, pos = (y_train == 0).sum(), (y_train == 1).sum()\n",
        "scale_pos_weight = neg / pos\n",
        "model = XGBClassifier(\n",
        "    objective='binary:logistic',\n",
        "    eval_metric='logloss',\n",
        "    use_label_encoder=False,\n",
        "    scale_pos_weight=scale_pos_weight,\n",
        "    random_state=42\n",
        ")\n",
        "model.fit(X_train, y_train)\n",
        "joblib.dump(model, os.path.join(OUTPUT_DIR, 'xgb_model.pkl'))"
      ],
      "metadata": {
        "colab": {
          "base_uri": "https://localhost:8080/"
        },
        "id": "S2LjgzcHXeSQ",
        "outputId": "a1ace39c-cf1c-40b4-c495-721de3251724"
      },
      "execution_count": 15,
      "outputs": [
        {
          "output_type": "stream",
          "name": "stderr",
          "text": [
            "/usr/local/lib/python3.11/dist-packages/xgboost/core.py:158: UserWarning: [17:22:01] WARNING: /workspace/src/learner.cc:740: \n",
            "Parameters: { \"use_label_encoder\" } are not used.\n",
            "\n",
            "  warnings.warn(smsg, UserWarning)\n"
          ]
        },
        {
          "output_type": "execute_result",
          "data": {
            "text/plain": [
              "['/content/drive/MyDrive/Fraud Detection/model_training/xgb_model.pkl']"
            ]
          },
          "metadata": {},
          "execution_count": 15
        }
      ]
    },
    {
      "cell_type": "code",
      "source": [
        "# Evaluation\n",
        "y_pred = model.predict(X_test)\n",
        "y_prob = model.predict_proba(X_test)[:, 1]\n",
        "\n",
        "# Classification metrics\n",
        "report = classification_report(y_test, y_pred)\n",
        "auc = roc_auc_score(y_test, y_prob)\n",
        "\n",
        "# Print to console\n",
        "print(\"Classification Report:\\n\", report)\n",
        "print(f\"ROC-AUC Score: {auc:.4f}\")"
      ],
      "metadata": {
        "colab": {
          "base_uri": "https://localhost:8080/"
        },
        "id": "ZZBBkYsNXeM5",
        "outputId": "c2d40fef-a018-4893-9759-76b8acea5892"
      },
      "execution_count": 16,
      "outputs": [
        {
          "output_type": "stream",
          "name": "stdout",
          "text": [
            "Classification Report:\n",
            "               precision    recall  f1-score   support\n",
            "\n",
            "           0       0.97      0.99      0.98       676\n",
            "           1       0.68      0.36      0.47        36\n",
            "\n",
            "    accuracy                           0.96       712\n",
            "   macro avg       0.83      0.68      0.73       712\n",
            "weighted avg       0.95      0.96      0.95       712\n",
            "\n",
            "ROC-AUC Score: 0.9183\n"
          ]
        }
      ]
    },
    {
      "cell_type": "code",
      "source": [
        "# Save report\n",
        "with open(os.path.join(OUTPUT_DIR, 'classification_report.txt'), 'w') as f:\n",
        "    f.write(report + f\"\\nROC-AUC: {auc:.4f}\\n\")"
      ],
      "metadata": {
        "id": "kArZy-AbXeHz"
      },
      "execution_count": 17,
      "outputs": []
    },
    {
      "cell_type": "code",
      "source": [
        "# Plot ROC curve\n",
        "fpr, tpr, _ = roc_curve(y_test, y_prob)\n",
        "plt.figure()\n",
        "plt.plot(fpr, tpr, label=f'XGBoost (AUC = {auc:.4f})')\n",
        "plt.plot([0, 1], [0, 1], 'k--')\n",
        "plt.xlabel('False Positive Rate')\n",
        "plt.ylabel('True Positive Rate')\n",
        "plt.title('ROC Curve')\n",
        "plt.legend(loc='lower right')\n",
        "plt.savefig(os.path.join(OUTPUT_DIR, 'roc_curve.png'))\n",
        "plt.close()\n",
        "\n",
        "print(f\"Models and artifacts saved to {OUTPUT_DIR}\")"
      ],
      "metadata": {
        "colab": {
          "base_uri": "https://localhost:8080/"
        },
        "id": "JUyXaNJBXeB5",
        "outputId": "60c7d51d-e4de-4232-fff3-965d1c59428d"
      },
      "execution_count": 18,
      "outputs": [
        {
          "output_type": "stream",
          "name": "stdout",
          "text": [
            "Models and artifacts saved to /content/drive/MyDrive/Fraud Detection/model_training\n"
          ]
        }
      ]
    },
    {
      "cell_type": "code",
      "source": [],
      "metadata": {
        "id": "qbM9Tx5aXd9M"
      },
      "execution_count": null,
      "outputs": []
    },
    {
      "cell_type": "code",
      "source": [],
      "metadata": {
        "id": "Pyxaz_7eXd4x"
      },
      "execution_count": null,
      "outputs": []
    },
    {
      "cell_type": "code",
      "source": [],
      "metadata": {
        "id": "sFIV1UcPXdvo"
      },
      "execution_count": null,
      "outputs": []
    },
    {
      "cell_type": "code",
      "source": [],
      "metadata": {
        "id": "A1InAVvObOuG"
      },
      "execution_count": null,
      "outputs": []
    },
    {
      "cell_type": "code",
      "source": [],
      "metadata": {
        "id": "94e_VtgZbOoI"
      },
      "execution_count": null,
      "outputs": []
    },
    {
      "cell_type": "code",
      "source": [],
      "metadata": {
        "id": "ZENDJisGbOiY"
      },
      "execution_count": null,
      "outputs": []
    },
    {
      "cell_type": "code",
      "source": [],
      "metadata": {
        "id": "rK-GqK8qbOdU"
      },
      "execution_count": null,
      "outputs": []
    }
  ]
}